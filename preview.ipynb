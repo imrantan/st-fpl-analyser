{
 "cells": [
  {
   "cell_type": "code",
   "execution_count": 1,
   "metadata": {},
   "outputs": [
    {
     "name": "stderr",
     "output_type": "stream",
     "text": [
      "c:\\Python312\\Lib\\site-packages\\tqdm\\auto.py:21: TqdmWarning: IProgress not found. Please update jupyter and ipywidgets. See https://ipywidgets.readthedocs.io/en/stable/user_install.html\n",
      "  from .autonotebook import tqdm as notebook_tqdm\n"
     ]
    }
   ],
   "source": [
    "import pandas as pd\n",
    "import fpl_functions as fpl"
   ]
  },
  {
   "cell_type": "code",
   "execution_count": 2,
   "metadata": {},
   "outputs": [
    {
     "name": "stdout",
     "output_type": "stream",
     "text": [
      "Code started at: 2024-09-29 09:43:43.383956\n",
      "EXTRACTING DATA UP TO GAME WEEK 38\n",
      "\u001b[1mChecking for Game Week 6 now...\u001b[0m\n",
      "Checking done for Game Week 6.\n",
      "\u001b[1mChecking for Game Week 7 now...\u001b[0m\n",
      "Checking done for Game Week 7.\n",
      "\u001b[1mChecking for Game Week 8 now...\u001b[0m\n",
      "Checking done for Game Week 8.\n",
      "\u001b[1mChecking for Game Week 9 now...\u001b[0m\n",
      "Checking done for Game Week 9.\n",
      "\u001b[1mChecking for Game Week 10 now...\u001b[0m\n",
      "Checking done for Game Week 10.\n",
      "\u001b[1mChecking for Game Week 11 now...\u001b[0m\n",
      "Checking done for Game Week 11.\n",
      "\u001b[1mChecking for Game Week 12 now...\u001b[0m\n",
      "Checking done for Game Week 12.\n",
      "\u001b[1mChecking for Game Week 13 now...\u001b[0m\n",
      "Checking done for Game Week 13.\n",
      "\u001b[1mChecking for Game Week 14 now...\u001b[0m\n",
      "Checking done for Game Week 14.\n",
      "\u001b[1mChecking for Game Week 15 now...\u001b[0m\n",
      "Checking done for Game Week 15.\n",
      "\u001b[1mChecking for Game Week 16 now...\u001b[0m\n",
      "Checking done for Game Week 16.\n",
      "\u001b[1mChecking for Game Week 17 now...\u001b[0m\n",
      "Checking done for Game Week 17.\n",
      "\u001b[1mChecking for Game Week 18 now...\u001b[0m\n",
      "Checking done for Game Week 18.\n",
      "\u001b[1mChecking for Game Week 19 now...\u001b[0m\n",
      "Checking done for Game Week 19.\n",
      "\u001b[1mChecking for Game Week 20 now...\u001b[0m\n",
      "Checking done for Game Week 20.\n",
      "\u001b[1mChecking for Game Week 21 now...\u001b[0m\n",
      "Checking done for Game Week 21.\n",
      "\u001b[1mChecking for Game Week 22 now...\u001b[0m\n",
      "Checking done for Game Week 22.\n",
      "\u001b[1mChecking for Game Week 23 now...\u001b[0m\n",
      "Checking done for Game Week 23.\n",
      "\u001b[1mChecking for Game Week 24 now...\u001b[0m\n",
      "Checking done for Game Week 24.\n",
      "\u001b[1mChecking for Game Week 25 now...\u001b[0m\n",
      "Checking done for Game Week 25.\n",
      "\u001b[1mChecking for Game Week 26 now...\u001b[0m\n",
      "Checking done for Game Week 26.\n",
      "\u001b[1mChecking for Game Week 27 now...\u001b[0m\n",
      "Checking done for Game Week 27.\n",
      "\u001b[1mChecking for Game Week 28 now...\u001b[0m\n",
      "Checking done for Game Week 28.\n",
      "\u001b[1mChecking for Game Week 29 now...\u001b[0m\n",
      "Checking done for Game Week 29.\n",
      "\u001b[1mChecking for Game Week 30 now...\u001b[0m\n",
      "Checking done for Game Week 30.\n",
      "\u001b[1mChecking for Game Week 31 now...\u001b[0m\n",
      "Checking done for Game Week 31.\n",
      "\u001b[1mChecking for Game Week 32 now...\u001b[0m\n",
      "Checking done for Game Week 32.\n",
      "\u001b[1mChecking for Game Week 33 now...\u001b[0m\n",
      "Checking done for Game Week 33.\n",
      "\u001b[1mChecking for Game Week 34 now...\u001b[0m\n",
      "Checking done for Game Week 34.\n",
      "\u001b[1mChecking for Game Week 35 now...\u001b[0m\n",
      "Checking done for Game Week 35.\n",
      "\u001b[1mChecking for Game Week 36 now...\u001b[0m\n",
      "Checking done for Game Week 36.\n",
      "\u001b[1mChecking for Game Week 37 now...\u001b[0m\n",
      "Checking done for Game Week 37.\n",
      "\u001b[1mChecking for Game Week 38 now...\u001b[0m\n",
      "Checking done for Game Week 38.\n",
      "Total errors found: 0\n",
      "Code ended at: 2024-09-29 09:43:47.079178\n",
      "Elapsed time: 00:00:03\n",
      "done\n"
     ]
    }
   ],
   "source": [
    "league_id = '2306035'\n",
    "LEAGUE_NAME, start_event, hist_Teams_data, Full_Selection_Data, All_Transfers, df_Transfers_IN_OUT = fpl.run_api_extraction(game_week=38,\n",
    "                                                                                                            league_id=league_id)\n",
    "print('done')"
   ]
  },
  {
   "cell_type": "code",
   "execution_count": 3,
   "metadata": {},
   "outputs": [
    {
     "data": {
      "text/plain": [
       "'Potato Farm'"
      ]
     },
     "execution_count": 3,
     "metadata": {},
     "output_type": "execute_result"
    }
   ],
   "source": [
    "LEAGUE_NAME"
   ]
  },
  {
   "cell_type": "code",
   "execution_count": 4,
   "metadata": {},
   "outputs": [
    {
     "data": {
      "text/plain": [
       "6"
      ]
     },
     "execution_count": 4,
     "metadata": {},
     "output_type": "execute_result"
    }
   ],
   "source": [
    "start_event"
   ]
  },
  {
   "cell_type": "code",
   "execution_count": 5,
   "metadata": {},
   "outputs": [
    {
     "data": {
      "text/html": [
       "<div>\n",
       "<style scoped>\n",
       "    .dataframe tbody tr th:only-of-type {\n",
       "        vertical-align: middle;\n",
       "    }\n",
       "\n",
       "    .dataframe tbody tr th {\n",
       "        vertical-align: top;\n",
       "    }\n",
       "\n",
       "    .dataframe thead th {\n",
       "        text-align: right;\n",
       "    }\n",
       "</style>\n",
       "<table border=\"1\" class=\"dataframe\">\n",
       "  <thead>\n",
       "    <tr style=\"text-align: right;\">\n",
       "      <th></th>\n",
       "      <th>id</th>\n",
       "      <th>player_name</th>\n",
       "      <th>entry</th>\n",
       "      <th>entry_name</th>\n",
       "      <th>league_rank</th>\n",
       "      <th>event</th>\n",
       "      <th>points</th>\n",
       "      <th>total_points</th>\n",
       "      <th>rank</th>\n",
       "      <th>rank_sort</th>\n",
       "      <th>overall_rank</th>\n",
       "      <th>percentile_rank</th>\n",
       "      <th>bank</th>\n",
       "      <th>value</th>\n",
       "      <th>event_transfers</th>\n",
       "      <th>event_transfers_cost</th>\n",
       "      <th>points_on_bench</th>\n",
       "    </tr>\n",
       "  </thead>\n",
       "  <tbody>\n",
       "    <tr>\n",
       "      <th>0</th>\n",
       "      <td>89348749</td>\n",
       "      <td>Imran Tan</td>\n",
       "      <td>6513419</td>\n",
       "      <td>Haalander FC</td>\n",
       "      <td>1</td>\n",
       "      <td>6</td>\n",
       "      <td>51</td>\n",
       "      <td>346</td>\n",
       "      <td>2368841</td>\n",
       "      <td>2393493</td>\n",
       "      <td>4024264</td>\n",
       "      <td>25</td>\n",
       "      <td>11</td>\n",
       "      <td>1001</td>\n",
       "      <td>2</td>\n",
       "      <td>4</td>\n",
       "      <td>4</td>\n",
       "    </tr>\n",
       "    <tr>\n",
       "      <th>1</th>\n",
       "      <td>89346820</td>\n",
       "      <td>Axel Ng</td>\n",
       "      <td>2124130</td>\n",
       "      <td>Axelander-Arnold</td>\n",
       "      <td>2</td>\n",
       "      <td>6</td>\n",
       "      <td>48</td>\n",
       "      <td>325</td>\n",
       "      <td>2970704</td>\n",
       "      <td>2975001</td>\n",
       "      <td>5525382</td>\n",
       "      <td>30</td>\n",
       "      <td>2</td>\n",
       "      <td>995</td>\n",
       "      <td>3</td>\n",
       "      <td>0</td>\n",
       "      <td>8</td>\n",
       "    </tr>\n",
       "    <tr>\n",
       "      <th>2</th>\n",
       "      <td>89552918</td>\n",
       "      <td>Lorenzo Khoo</td>\n",
       "      <td>1434678</td>\n",
       "      <td>LK</td>\n",
       "      <td>3</td>\n",
       "      <td>6</td>\n",
       "      <td>45</td>\n",
       "      <td>394</td>\n",
       "      <td>3577219</td>\n",
       "      <td>3584639</td>\n",
       "      <td>686481</td>\n",
       "      <td>35</td>\n",
       "      <td>22</td>\n",
       "      <td>1019</td>\n",
       "      <td>2</td>\n",
       "      <td>0</td>\n",
       "      <td>7</td>\n",
       "    </tr>\n",
       "    <tr>\n",
       "      <th>3</th>\n",
       "      <td>89346581</td>\n",
       "      <td>Jamie Lew</td>\n",
       "      <td>6723742</td>\n",
       "      <td>Saka Punch</td>\n",
       "      <td>4</td>\n",
       "      <td>6</td>\n",
       "      <td>34</td>\n",
       "      <td>309</td>\n",
       "      <td>6101370</td>\n",
       "      <td>6182871</td>\n",
       "      <td>6499483</td>\n",
       "      <td>60</td>\n",
       "      <td>3</td>\n",
       "      <td>1003</td>\n",
       "      <td>0</td>\n",
       "      <td>0</td>\n",
       "      <td>0</td>\n",
       "    </tr>\n",
       "    <tr>\n",
       "      <th>4</th>\n",
       "      <td>89346707</td>\n",
       "      <td>Reagan Tanto</td>\n",
       "      <td>10220647</td>\n",
       "      <td>Spartan City</td>\n",
       "      <td>5</td>\n",
       "      <td>6</td>\n",
       "      <td>23</td>\n",
       "      <td>83</td>\n",
       "      <td>8726369</td>\n",
       "      <td>8830417</td>\n",
       "      <td>10215860</td>\n",
       "      <td>90</td>\n",
       "      <td>1</td>\n",
       "      <td>1002</td>\n",
       "      <td>0</td>\n",
       "      <td>0</td>\n",
       "      <td>6</td>\n",
       "    </tr>\n",
       "  </tbody>\n",
       "</table>\n",
       "</div>"
      ],
      "text/plain": [
       "         id   player_name     entry        entry_name  league_rank  event  \\\n",
       "0  89348749     Imran Tan   6513419      Haalander FC            1      6   \n",
       "1  89346820       Axel Ng   2124130  Axelander-Arnold            2      6   \n",
       "2  89552918  Lorenzo Khoo   1434678                LK            3      6   \n",
       "3  89346581     Jamie Lew   6723742        Saka Punch            4      6   \n",
       "4  89346707  Reagan Tanto  10220647      Spartan City            5      6   \n",
       "\n",
       "   points  total_points     rank  rank_sort  overall_rank  percentile_rank  \\\n",
       "0      51           346  2368841    2393493       4024264               25   \n",
       "1      48           325  2970704    2975001       5525382               30   \n",
       "2      45           394  3577219    3584639        686481               35   \n",
       "3      34           309  6101370    6182871       6499483               60   \n",
       "4      23            83  8726369    8830417      10215860               90   \n",
       "\n",
       "   bank  value  event_transfers  event_transfers_cost  points_on_bench  \n",
       "0    11   1001                2                     4                4  \n",
       "1     2    995                3                     0                8  \n",
       "2    22   1019                2                     0                7  \n",
       "3     3   1003                0                     0                0  \n",
       "4     1   1002                0                     0                6  "
      ]
     },
     "execution_count": 5,
     "metadata": {},
     "output_type": "execute_result"
    }
   ],
   "source": [
    "hist_Teams_data.head()"
   ]
  },
  {
   "cell_type": "code",
   "execution_count": 6,
   "metadata": {},
   "outputs": [
    {
     "data": {
      "text/plain": [
       "47"
      ]
     },
     "execution_count": 6,
     "metadata": {},
     "output_type": "execute_result"
    }
   ],
   "source": [
    "433-386"
   ]
  },
  {
   "cell_type": "code",
   "execution_count": 7,
   "metadata": {},
   "outputs": [
    {
     "data": {
      "text/plain": [
       "433"
      ]
     },
     "execution_count": 7,
     "metadata": {},
     "output_type": "execute_result"
    }
   ],
   "source": [
    "441-8"
   ]
  },
  {
   "cell_type": "code",
   "execution_count": null,
   "metadata": {},
   "outputs": [],
   "source": [
    "All_Transfers.head()"
   ]
  },
  {
   "cell_type": "code",
   "execution_count": null,
   "metadata": {},
   "outputs": [],
   "source": [
    "All_Transfers['element_in'].unique()"
   ]
  },
  {
   "cell_type": "code",
   "execution_count": null,
   "metadata": {},
   "outputs": [],
   "source": [
    "player_data = fpl.get_player_info()\n",
    "player_data.head()"
   ]
  },
  {
   "cell_type": "code",
   "execution_count": null,
   "metadata": {},
   "outputs": [],
   "source": [
    "df_player_data = player_data[['name', 'id_player', 'web_name', 'plural_name_short']]\n",
    "df_player_data.head()"
   ]
  },
  {
   "cell_type": "code",
   "execution_count": 12,
   "metadata": {},
   "outputs": [],
   "source": [
    "# 2. Retrieve the element_in Player info\n",
    "df_All_Transfers = pd.merge(left=All_Transfers,\n",
    "                                        right=df_player_data,\n",
    "                                        left_on='element_in',\n",
    "                                        right_on='id_player',\n",
    "                                        how='left',\n",
    "                                        suffixes=('_Team', '_PlayerIn'))\n",
    "\n",
    "# 3. Retrieve the element_out Player info\n",
    "df_All_Transfers = pd.merge(left=df_All_Transfers,\n",
    "                                    right=df_player_data,\n",
    "                                    left_on='element_out',\n",
    "                                    right_on='id_player',\n",
    "                                    how='left',\n",
    "                                    suffixes=('_PlayerIn', '_PlayerOut'))"
   ]
  },
  {
   "cell_type": "code",
   "execution_count": null,
   "metadata": {},
   "outputs": [],
   "source": [
    "df_All_Transfers.head()"
   ]
  },
  {
   "cell_type": "code",
   "execution_count": null,
   "metadata": {},
   "outputs": [],
   "source": []
  }
 ],
 "metadata": {
  "kernelspec": {
   "display_name": "Python 3",
   "language": "python",
   "name": "python3"
  },
  "language_info": {
   "codemirror_mode": {
    "name": "ipython",
    "version": 3
   },
   "file_extension": ".py",
   "mimetype": "text/x-python",
   "name": "python",
   "nbconvert_exporter": "python",
   "pygments_lexer": "ipython3",
   "version": "3.12.2"
  }
 },
 "nbformat": 4,
 "nbformat_minor": 2
}
